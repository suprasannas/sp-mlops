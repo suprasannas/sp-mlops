{
 "cells": [
  {
   "cell_type": "code",
   "execution_count": 1,
   "id": "2c51efaa",
   "metadata": {},
   "outputs": [
    {
     "name": "stdout",
     "output_type": "stream",
     "text": [
      "scikit-learn==1.2.2\n",
      "scikit-learn-intelex==20230228.214242\n"
     ]
    }
   ],
   "source": [
    "!pip freeze | grep scikit-learn"
   ]
  },
  {
   "cell_type": "code",
   "execution_count": 2,
   "id": "9495bf5b-59aa-4227-a728-d712d5efb760",
   "metadata": {},
   "outputs": [
    {
     "name": "stdout",
     "output_type": "stream",
     "text": [
      "Requirement already satisfied: scikit-learn==1.2.2 in /home/ubuntu/anaconda3/lib/python3.10/site-packages (1.2.2)\n",
      "Requirement already satisfied: threadpoolctl>=2.0.0 in /home/ubuntu/anaconda3/lib/python3.10/site-packages (from scikit-learn==1.2.2) (2.2.0)\n",
      "Requirement already satisfied: scipy>=1.3.2 in /home/ubuntu/anaconda3/lib/python3.10/site-packages (from scikit-learn==1.2.2) (1.10.0)\n",
      "Requirement already satisfied: numpy>=1.17.3 in /home/ubuntu/anaconda3/lib/python3.10/site-packages (from scikit-learn==1.2.2) (1.23.5)\n",
      "Requirement already satisfied: joblib>=1.1.1 in /home/ubuntu/anaconda3/lib/python3.10/site-packages (from scikit-learn==1.2.2) (1.1.1)\n"
     ]
    }
   ],
   "source": [
    "!pip install scikit-learn==1.2.2 "
   ]
  },
  {
   "cell_type": "code",
   "execution_count": 1,
   "id": "4423aecf-0535-415a-8c05-9909c59cfa3a",
   "metadata": {},
   "outputs": [],
   "source": [
    "import os\n",
    "import uuid\n",
    "import pickle\n",
    "\n",
    "import pandas as pd\n",
    "\n",
    "import mlflow\n",
    "\n",
    "from sklearn.feature_extraction import DictVectorizer\n",
    "from sklearn.ensemble import RandomForestRegressor\n",
    "from sklearn.metrics import mean_squared_error\n",
    "from sklearn.pipeline import make_pipeline"
   ]
  },
  {
   "cell_type": "code",
   "execution_count": 2,
   "id": "6ea6c9c2-5433-4b78-8b4e-130f8139a0ad",
   "metadata": {},
   "outputs": [],
   "source": [
    "year = 2022\n",
    "month = 3\n",
    "taxi_type = 'yellow'\n",
    "\n",
    "input_file = f'../../../data/yellow/yellow_tripdata_2022-03.parquet'\n",
    "output_file = f'output/{taxi_type}/{year:04d}-{month:02d}.parquet'"
   ]
  },
  {
   "cell_type": "code",
   "execution_count": 3,
   "id": "78985efa-9cb0-4513-ae7a-f762087abe72",
   "metadata": {},
   "outputs": [
    {
     "data": {
      "text/plain": [
       "'../../../data/yellow/yellow_tripdata_2022-03.parquet'"
      ]
     },
     "execution_count": 3,
     "metadata": {},
     "output_type": "execute_result"
    }
   ],
   "source": [
    "input_file"
   ]
  },
  {
   "cell_type": "code",
   "execution_count": 4,
   "id": "5e364b4a-268f-45f6-a0e5-355597d097fe",
   "metadata": {},
   "outputs": [],
   "source": [
    "def generate_uuids(n):\n",
    "    ride_ids = []\n",
    "    for i in range(n):\n",
    "        ride_ids.append(str(uuid.uuid4()))\n",
    "    return ride_ids\n",
    "\n",
    "def read_dataframe(filename: str):\n",
    "    df = pd.read_parquet(filename)\n",
    "\n",
    "    df['duration'] = df.tpep_dropoff_datetime - df.tpep_pickup_datetime\n",
    "    df.duration = df.duration.dt.total_seconds() / 60\n",
    "    df = df[(df.duration >= 1) & (df.duration <= 60)]\n",
    "    \n",
    "    df['ride_id'] = generate_uuids(len(df))\n",
    "\n",
    "    return df\n",
    "\n",
    "def prepare_dictionaries(df: pd.DataFrame):\n",
    "    categorical = ['PULocationID', 'DOLocationID']\n",
    "    df[categorical] = df[categorical].astype(str)\n",
    "    \n",
    "    df['PU_DO'] = df['PULocationID'] + '_' + df['DOLocationID']\n",
    "\n",
    "    categorical = ['PU_DO']\n",
    "    numerical = ['trip_distance']\n",
    "    dicts = df[categorical + numerical].to_dict(orient='records')\n",
    "    return dicts"
   ]
  },
  {
   "cell_type": "code",
   "execution_count": 5,
   "id": "bd891bf9-1994-4ac9-8a65-4a9e752f1728",
   "metadata": {},
   "outputs": [],
   "source": [
    "def load_model():\n",
    "    with open('model.bin', 'rb') as f_in:\n",
    "        dv,model = pickle.load(f_in)\n",
    "    return (dv,model)"
   ]
  },
  {
   "cell_type": "code",
   "execution_count": 8,
   "id": "55580709-ad28-4d8c-a72b-31ab7d59f077",
   "metadata": {},
   "outputs": [],
   "source": [
    "def apply_model(input_file, output_file):\n",
    "\n",
    "    df = read_dataframe(input_file)\n",
    "    dicts = prepare_dictionaries(df)\n",
    "    \n",
    "    dv,model = load_model()\n",
    "    X_val = dv.transform(dicts)\n",
    "    y_pred = model.predict(X_val)\n",
    "\n",
    "    df_result = pd.DataFrame()\n",
    "    df_result['ride_id'] = df['ride_id']\n",
    "    df_result['tpep_pickup_datetime'] = df['tpep_pickup_datetime']\n",
    "    df_result['PULocationID'] = df['PULocationID']\n",
    "    df_result['DOLocationID'] = df['DOLocationID']\n",
    "    df_result['actual_duration'] = df['duration']\n",
    "    df_result['predicted_duration'] = y_pred\n",
    "    df_result['diff'] = df_result['actual_duration'] - df_result['predicted_duration']\n",
    "    #df_result['model_version'] = run_id\n",
    "    \n",
    "   \n",
    "    #df_result.to_parquet(output_file, index=False)\n",
    "    print(y_pred.std())"
   ]
  },
  {
   "cell_type": "code",
   "execution_count": 9,
   "id": "ae1389b6-61af-4ea5-9be1-556667588a2a",
   "metadata": {},
   "outputs": [
    {
     "name": "stdout",
     "output_type": "stream",
     "text": [
      "1.9184653865522705e-13\n"
     ]
    }
   ],
   "source": [
    "apply_model(input_file=input_file, output_file=output_file)"
   ]
  },
  {
   "cell_type": "code",
   "execution_count": 13,
   "id": "95789a35-5276-44b5-b03d-d227918b0fa9",
   "metadata": {},
   "outputs": [],
   "source": [
    "df = pd.read_parquet(input_file)"
   ]
  },
  {
   "cell_type": "code",
   "execution_count": 14,
   "id": "1c42f92e-fbf5-45f6-8d18-93e732c6f4e5",
   "metadata": {},
   "outputs": [
    {
     "data": {
      "text/plain": [
       "Index(['VendorID', 'tpep_pickup_datetime', 'tpep_dropoff_datetime',\n",
       "       'passenger_count', 'trip_distance', 'RatecodeID', 'store_and_fwd_flag',\n",
       "       'PULocationID', 'DOLocationID', 'payment_type', 'fare_amount', 'extra',\n",
       "       'mta_tax', 'tip_amount', 'tolls_amount', 'improvement_surcharge',\n",
       "       'total_amount', 'congestion_surcharge', 'airport_fee'],\n",
       "      dtype='object')"
      ]
     },
     "execution_count": 14,
     "metadata": {},
     "output_type": "execute_result"
    }
   ],
   "source": [
    "df.columns"
   ]
  },
  {
   "cell_type": "code",
   "execution_count": null,
   "id": "04fee396-b391-44a1-ab48-26f370753fbb",
   "metadata": {},
   "outputs": [],
   "source": []
  }
 ],
 "metadata": {
  "kernelspec": {
   "display_name": "Python 3 (ipykernel)",
   "language": "python",
   "name": "python3"
  },
  "language_info": {
   "codemirror_mode": {
    "name": "ipython",
    "version": 3
   },
   "file_extension": ".py",
   "mimetype": "text/x-python",
   "name": "python",
   "nbconvert_exporter": "python",
   "pygments_lexer": "ipython3",
   "version": "3.10.9"
  }
 },
 "nbformat": 4,
 "nbformat_minor": 5
}
